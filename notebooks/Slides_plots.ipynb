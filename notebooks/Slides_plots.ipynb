{
 "cells": [
  {
   "cell_type": "code",
   "execution_count": 1,
   "metadata": {},
   "outputs": [],
   "source": [
    "# direct to proper path\n",
    "import os\n",
    "import sys\n",
    "module_path = os.path.abspath(os.path.join('..'))\n",
    "if module_path not in sys.path:\n",
    "    sys.path.append(module_path)\n",
    "\n",
    "import seaborn as sns\n",
    "from scipy.stats import norm\n",
    "from scipy.special import erf\n",
    "import numpy as np\n",
    "import matplotlib.pyplot as plt\n",
    "from codes.Environment import Mixture_AbsGau, setup_env, Exp, generate_samples\n",
    "\n",
    "import matplotlib as mpl\n",
    "\n",
    "mpl.rcParams['axes.spines.left'] = False\n",
    "mpl.rcParams['axes.spines.right'] = False\n",
    "mpl.rcParams['axes.spines.top'] = False\n",
    "mpl.rcParams['axes.spines.top'] = False\n",
    "# mpl.rcParams['axes.spines.bottom'] = False"
   ]
  },
  {
   "cell_type": "code",
   "execution_count": 2,
   "metadata": {},
   "outputs": [],
   "source": [
    "def Abs_Gau_pdf(x, mu, sigma):\n",
    "    return 1.0/np.sqrt(2 * np.pi * sigma ** 2) * (np.exp(- 1.0/(2 * sigma**2) * (x - mu)** 2) + np.exp(- 1.0/(2 * sigma**2) * (x + mu)** 2 ))\n",
    "\n",
    "def Abs_Gau_cdf(x, mu, sigma):\n",
    "    return 1.0/2 * (erf((x-mu)/ np.sqrt(2 * sigma ** 2)) + erf((x+ mu)/ np.sqrt(2 * sigma ** 2)))\n",
    "\n",
    "def Phi(x):\n",
    "    return 1.0/2 * (1+ erf(x/np.sqrt(2)))\n",
    "\n",
    "def Abs_Gau_mean(mu, sigma):\n",
    "    return sigma * np.sqrt(2.0/np.pi) * np.exp(- mu ** 2 / (2 * sigma ** 2)) +\\\n",
    "            + mu * (1 - 2 * Phi(- mu/sigma))\n",
    "\n",
    "def Abs_Gau_quant_est(p, mu, sigma, size = 10000):\n",
    "    samples = np.abs(np.random.normal(mu, sigma, size))\n",
    "    return np.sort(samples)[int(p * size)], samples\n",
    "\n",
    "def Exp_pdf(x, para):\n",
    "    return para * np.exp(- para * x)\n",
    "\n",
    "def Exp_mean(para):\n",
    "    return 1.0/para\n",
    "\n",
    "def Exp_quant(p, para):\n",
    "    return - np.log(1- p)/para"
   ]
  },
  {
   "cell_type": "code",
   "execution_count": 3,
   "metadata": {},
   "outputs": [],
   "source": [
    "plot_mean_flag = False\n",
    "plot_quant_flag = True\n",
    "plot_quant_est_flag = True\n",
    "p = 0.2\n",
    "np.random.seed(24)\n",
    "\n",
    "save_path = \"../plots/slide_plots/\""
   ]
  },
  {
   "cell_type": "code",
   "execution_count": 4,
   "metadata": {},
   "outputs": [
    {
     "data": {
      "image/png": "[encoded data removed]",
      "text/plain": [
       "<Figure size 432x288 with 1 Axes>"
      ]
     },
     "metadata": {
      "needs_background": "light"
     },
     "output_type": "display_data"
    }
   ],
   "source": [
    "mu = 1.0\n",
    "sigma = 1.0\n",
    "\n",
    "x = np.linspace(0, 5, 100)\n",
    "plt.fill_between(x, Abs_Gau_pdf(x, mu, sigma), color = 'grey', alpha = 0.3)\n",
    "\n",
    "plt.ylim(0, 0.6)\n",
    "plt.xlabel('Reward')\n",
    "plt.yticks([])\n",
    "\n",
    "\n",
    "if plot_mean_flag:\n",
    "    mean = round(Abs_Gau_mean(mu, sigma),2)\n",
    "    plt.vlines(mean, 0, 0.5, linestyles = 'dashed')\n",
    "    plt.annotate(str(mean), (mean, 0.52))\n",
    "    plt.savefig(save_path + 'arm1_mean.pdf', bbox_inches='tight', transparent=True)\n",
    "\n",
    "if plot_quant_flag:\n",
    "    quant,_ = Abs_Gau_quant_est(p, mu, sigma)\n",
    "    quant = round(quant,2)\n",
    "    plt.vlines(quant, 0, 0.5, linestyles = 'dashed')\n",
    "    plt.annotate(str(quant), (quant, 0.52))\n",
    "    plt.savefig(save_path + 'arm1_quant.pdf', bbox_inches='tight', transparent=True)\n",
    "\n",
    "plt.savefig(save_path + 'arm1.pdf', bbox_inches='tight', transparent=True)\n"
   ]
  },
  {
   "cell_type": "code",
   "execution_count": 12,
   "metadata": {
    "scrolled": true
   },
   "outputs": [
    {
     "data": {
      "image/png": "[encoded data removed]",
      "text/plain": [
       "<Figure size 432x288 with 1 Axes>"
      ]
     },
     "metadata": {
      "needs_background": "light"
     },
     "output_type": "display_data"
    },
    {
     "data": {
      "image/png": "[encoded data removed]",
      "text/plain": [
       "<Figure size 432x288 with 1 Axes>"
      ]
     },
     "metadata": {
      "needs_background": "light"
     },
     "output_type": "display_data"
    }
   ],
   "source": [
    "mu = 1.5\n",
    "sigma = 1.0\n",
    "\n",
    "x = np.linspace(0, 5, 100)\n",
    "plt.fill_between(x, Abs_Gau_pdf(x, mu, sigma), color = 'grey', alpha = 0.3)\n",
    "\n",
    "plt.ylim(0, 0.6)\n",
    "plt.xlabel('Reward')\n",
    "plt.yticks([])\n",
    "\n",
    "if plot_mean_flag:\n",
    "    mean = round(Abs_Gau_mean(mu, sigma),2)\n",
    "    plt.vlines(mean, 0, 0.5, linestyles = 'dashed')\n",
    "    plt.annotate(str(mean), (mean, 0.52))\n",
    "    plt.savefig(save_path + 'arm2_mean.pdf', bbox_inches='tight', transparent=True)\n",
    "    \n",
    "if plot_quant_flag:\n",
    "    quant, samples = Abs_Gau_quant_est(p, mu, sigma)\n",
    "    quant = round(quant,2)\n",
    "    \n",
    "    if plot_quant_est_flag:\n",
    "#         plt.xlim(0,3)\n",
    "        for num_sample in [10]: # 5, 10, 100\n",
    "            plt.figure()\n",
    "            x = np.linspace(0, 5, 100)\n",
    "            plt.fill_between(x, Abs_Gau_pdf(x, mu, sigma), color = 'grey', alpha = 0.3)\n",
    "\n",
    "            plt.ylim(0, 0.6)\n",
    "            plt.xlabel('Reward')\n",
    "            plt.yticks([])\n",
    "            plt.vlines(quant, 0, 0.5, linestyles = 'dashed')\n",
    "            \n",
    "            plt.scatter(samples[:num_sample], np.ones(num_sample) * 0.01, alpha = 0.5)\n",
    "            \n",
    "            quant_est = np.sort(samples[:num_sample])[int(p * num_sample)]\n",
    "            quant_est = round(quant_est,2)\n",
    "            plt.vlines(quant_est, 0, 0.5, linestyles = 'dashed', color = 'orange', alpha = 0.5)\n",
    "        #     plt.annotate(str(quant_est), (quant_est, 0.52))\n",
    "            plt.savefig(save_path + 'arm2_quant_' + str(num_sample) + '.pdf', bbox_inches='tight', transparent=True)\n",
    "    else:\n",
    "        plt.vlines(quant, 0, 0.5, linestyles = 'dashed')\n",
    "        plt.annotate(str(quant), (quant, 0.52))    \n",
    "    plt.savefig(save_path + 'arm2_quant.pdf', bbox_inches='tight', transparent=True)\n",
    "plt.savefig(save_path + 'arm2.pdf', bbox_inches='tight', transparent=True)"
   ]
  },
  {
   "cell_type": "code",
   "execution_count": 10,
   "metadata": {},
   "outputs": [
    {
     "data": {
      "image/png": "[encoded data removed]",
      "text/plain": [
       "<Figure size 432x288 with 1 Axes>"
      ]
     },
     "metadata": {
      "needs_background": "light"
     },
     "output_type": "display_data"
    }
   ],
   "source": [
    "para = 0.5\n",
    "\n",
    "x = np.linspace(0, 5, 100)\n",
    "plt.fill_between(x, Exp_pdf(x, para), color = 'grey', alpha = 0.3)\n",
    "plt.ylim(0, 0.6)\n",
    "plt.xlabel('Reward')\n",
    "plt.yticks([])\n",
    "\n",
    "if plot_mean_flag:\n",
    "    mean = round(Exp_mean(para),2)\n",
    "    plt.vlines(mean, 0, 0.5, linestyles = 'dashed')\n",
    "    plt.annotate(str(mean), (mean, 0.52))\n",
    "    plt.savefig(save_path + 'arm3_mean.pdf', bbox_inches='tight', transparent=True)\n",
    "\n",
    "if plot_quant_flag:\n",
    "    quant, samples = Abs_Gau_quant_est(p, mu, sigma)\n",
    "    quant = round(quant,2)\n",
    "    plt.vlines(quant, 0, 0.5, linestyles = 'dashed')\n",
    "    plt.annotate(str(quant), (quant, 0.52))\n",
    "    plt.savefig(save_path + 'arm3_quant.pdf', bbox_inches='tight', transparent=True)\n",
    "\n",
    "plt.savefig(save_path + 'arm3.pdf', bbox_inches='tight', transparent=True)"
   ]
  },
  {
   "cell_type": "code",
   "execution_count": null,
   "metadata": {},
   "outputs": [],
   "source": []
  }
 ],
 "metadata": {
  "kernelspec": {
   "display_name": "Python 3",
   "language": "python",
   "name": "python3"
  },
  "language_info": {
   "codemirror_mode": {
    "name": "ipython",
    "version": 3
   },
   "file_extension": ".py",
   "mimetype": "text/x-python",
   "name": "python",
   "nbconvert_exporter": "python",
   "pygments_lexer": "ipython3",
   "version": "3.7.3"
  },
  "toc": {
   "base_numbering": 1,
   "nav_menu": {},
   "number_sections": true,
   "sideBar": true,
   "skip_h1_title": false,
   "title_cell": "Table of Contents",
   "title_sidebar": "Contents",
   "toc_cell": false,
   "toc_position": {},
   "toc_section_display": true,
   "toc_window_display": false
  },
  "varInspector": {
   "cols": {
    "lenName": 16,
    "lenType": 16,
    "lenVar": 40
   },
   "kernels_config": {
    "python": {
     "delete_cmd_postfix": "",
     "delete_cmd_prefix": "del ",
     "library": "var_list.py",
     "varRefreshCmd": "print(var_dic_list())"
    },
    "r": {
     "delete_cmd_postfix": ") ",
     "delete_cmd_prefix": "rm(",
     "library": "var_list.r",
     "varRefreshCmd": "cat(var_dic_list()) "
    }
   },
   "types_to_exclude": [
    "module",
    "function",
    "builtin_function_or_method",
    "instance",
    "_Feature"
   ],
   "window_display": false
  }
 },
 "nbformat": 4,
 "nbformat_minor": 2
}

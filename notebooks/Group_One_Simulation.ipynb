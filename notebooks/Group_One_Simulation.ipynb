{
 "cells": [
  {
   "cell_type": "markdown",
   "metadata": {},
   "source": [
    "# Environment I (0.5-quantile)\n",
    "\n",
    "In this notebook, we show the simulation for the Group One design.\n",
    "\n",
    "Group one shows quantiles and means can reflect different preference order and the quantiles are preferred by the risk-averse agents, i.e. Arm B is preferred since its less low rewards.\n",
    "We compare our algorithms with the quantile-based baseline algorithms in terms of Group One design.\n",
    "\n",
    "We consider $K = 20 + m$ arms with 15 arm A, $m$ arm B (optimal arms) and 5 arm C.\n",
    "The goal is to identify $m$ arms with largest $0.5$-quantile (i.e. median).\n",
    "We compare our algorithms with the quantile-based baseline algorithms:\n",
    "- Quantile uniform sampling (Q-Uniform), where each arm is sampled uniformly and we select the arm with the maximum 0.5-quantile;\n",
    "- Quantile Batch Elimination (Q-BE) proposed in \\citet{tran-thanh_functional_2014} %, where we choose to drop one arm for each phase.\n",
    "- Quantile Successive Rejects (Q-SR). "
   ]
  },
  {
   "cell_type": "code",
   "execution_count": 1,
   "metadata": {},
   "outputs": [],
   "source": [
    "# direct to proper path\n",
    "import os\n",
    "import sys\n",
    "module_path = os.path.abspath(os.path.join('..'))\n",
    "if module_path not in sys.path:\n",
    "    sys.path.append(module_path)\n",
    "    \n",
    "import numpy as np\n",
    "from ipywidgets import IntProgress\n",
    "from IPython.display import display\n",
    "import matplotlib.pyplot as plt\n",
    "import matplotlib\n",
    "from collections import defaultdict\n",
    "import seaborn as sns\n",
    "import pickle\n",
    "from prettytable import PrettyTable\n",
    "\n",
    "from codes.BAI_FixedBudget import *\n",
    "from codes.Environment import Mixture_AbsGau, setup_env, Exp\n",
    "from codes.SimulatedGames import simulate\n",
    "from codes.plots import *"
   ]
  },
  {
   "cell_type": "code",
   "execution_count": 2,
   "metadata": {},
   "outputs": [],
   "source": [
    "\n",
    "# setting\n",
    "results = defaultdict(dict)\n",
    "num_exper = 5000\n",
    "epsilon = 0\n",
    "\n",
    "\n",
    "m = 5 # number of recommendation\n",
    "tau = 0.5 # quantile level\n",
    "\n",
    "if m == 1:\n",
    "    budget_list = [500, 750, 1000, 1250, 1500, 1750, 2000, 2250, 2500]\n",
    "elif m == 5:\n",
    "    budget_list = [1000, 1250, 1500, 1750, 2000, 2250, 2500, 2750, 3000, 3250, 3500, 3750, 4000]\n",
    "\n",
    "# output/plot setting\n",
    "\n",
    "output_file = '../saved_results/Group_One_'  + 'm' + str(m) + '_exper_' + str(num_exper) + '_' + 'budget_' + str(budget_list[0]) + '_' + str(budget_list[-1]) \n",
    "budget_plot_title = 'BAI with '+ str(tau) + ' quantile (m=' + str(m) + ')'"
   ]
  },
  {
   "cell_type": "code",
   "execution_count": 3,
   "metadata": {
    "tags": []
   },
   "outputs": [],
   "source": [
    "# Reward Hist Plot\n",
    "\n",
    "# base_environment = [\n",
    "#     {Mixture_AbsGau: [[0, 2, 0,1, 1], [3.5, 2, 0, 1, 1], \n",
    "#                      ],\n",
    "#      Exp: [[1/4]]\n",
    "#     } # mu1, sigma1, mu2, sigma2, p\n",
    "    \n",
    "# ]\n",
    "\n",
    "# base_rewards_env, base_true_ss_dict, base_samples = setup_env(base_environment, ['quantile_' + str(tau)])\n",
    "# plot_hist(base_samples)"
   ]
  },
  {
   "cell_type": "code",
   "execution_count": 4,
   "metadata": {
    "tags": []
   },
   "outputs": [
    {
     "name": "stdout",
     "output_type": "stream",
     "text": [
      "{<class 'codes.Environment.Mixture_AbsGau'>: [[0, 2, 0, 1, 1], [3.5, 2, 0, 1, 1], [3.5, 2, 0, 1, 1], [3.5, 2, 0, 1, 1], [3.5, 2, 0, 1, 1], [3.5, 2, 0, 1, 1], [0, 2, 0, 1, 1], [0, 2, 0, 1, 1], [0, 2, 0, 1, 1], [0, 2, 0, 1, 1], [0, 2, 0, 1, 1], [0, 2, 0, 1, 1], [0, 2, 0, 1, 1], [0, 2, 0, 1, 1], [0, 2, 0, 1, 1], [0, 2, 0, 1, 1], [0, 2, 0, 1, 1], [0, 2, 0, 1, 1], [0, 2, 0, 1, 1], [0, 2, 0, 1, 1]], <class 'codes.Environment.Exp'>: [[0.25], [0.25], [0.25], [0.25], [0.25]]}\n"
     ]
    }
   ],
   "source": [
    "# environment\n",
    "\n",
    "environment_m1 = [\n",
    "    {Mixture_AbsGau: [[0, 2, 0,1, 1], [3.5, 2, 0, 1, 1], \n",
    "                      # [3.5, 2, 0, 1, 1], [3.5, 2, 0, 1, 1], \n",
    "                      # [3.5, 2, 0, 1, 1], [3.5, 2, 0, 1, 1], \n",
    "                      [0, 2, 0,1, 1],  \n",
    "                      [0, 2, 0,1, 1], \n",
    "                      [0, 2, 0,1, 1], \n",
    "                      [0, 2, 0,1, 1],  \n",
    "                      [0, 2, 0,1, 1], \n",
    "                      [0, 2, 0,1, 1], \n",
    "                      [0, 2, 0,1, 1],  \n",
    "                      [0, 2, 0,1, 1], \n",
    "                      [0, 2, 0,1, 1], \n",
    "                      [0, 2, 0,1, 1],  \n",
    "                      [0, 2, 0,1, 1], \n",
    "                      [0, 2, 0,1, 1], \n",
    "                      [0, 2, 0,1, 1],  \n",
    "                      [0, 2, 0,1, 1],  \n",
    "                     ],\n",
    "     Exp: [[1/4], [1/4], [1/4], [1/4], [1/4]]\n",
    "    } # mu1, sigma1, mu2, sigma2, p  \n",
    "]\n",
    "\n",
    "environment_m5 = [\n",
    "    {Mixture_AbsGau: [[0, 2, 0,1, 1], [3.5, 2, 0, 1, 1], \n",
    "                      [3.5, 2, 0, 1, 1], [3.5, 2, 0, 1, 1], \n",
    "                      [3.5, 2, 0, 1, 1], [3.5, 2, 0, 1, 1], \n",
    "                      [0, 2, 0,1, 1],  \n",
    "                      [0, 2, 0,1, 1], \n",
    "                      [0, 2, 0,1, 1], \n",
    "                      [0, 2, 0,1, 1],  \n",
    "                      [0, 2, 0,1, 1], \n",
    "                      [0, 2, 0,1, 1], \n",
    "                      [0, 2, 0,1, 1],  \n",
    "                      [0, 2, 0,1, 1], \n",
    "                      [0, 2, 0,1, 1], \n",
    "                      [0, 2, 0,1, 1],  \n",
    "                      [0, 2, 0,1, 1], \n",
    "                      [0, 2, 0,1, 1], \n",
    "                      [0, 2, 0,1, 1],  \n",
    "                      [0, 2, 0,1, 1],  \n",
    "                     ],\n",
    "     Exp: [[1/4], [1/4], [1/4], [1/4], [1/4]]\n",
    "    } # mu1, sigma1, mu2, sigma2, p  \n",
    "]\n",
    "\n",
    "if m == 1:\n",
    "  environments = environment_m1\n",
    "elif m == 5:\n",
    "  environments = environment_m5\n",
    "else: \n",
    "  print('Unknown environment!')\n",
    "\n",
    "rewards_env, true_ss_dict, samples = setup_env(environments, ['quantile_' + str(tau)])\n",
    "# true_ss_dict"
   ]
  },
  {
   "cell_type": "code",
   "execution_count": 5,
   "metadata": {},
   "outputs": [],
   "source": [
    "# run experiments\n",
    "\n",
    "def run_exper(rewards_env, summary_stats, policy, epsilon, m, budget, num_exper, \n",
    "              fixed_samples_list = None):\n",
    "    for key in rewards_env.keys():\n",
    "        name = key + '_' + str(num_exper)\n",
    "        policy_name = str(policy).split('.')[-1].split('\\'')[0] + '-'\n",
    "        subname = policy_name  + str(budget) \n",
    "        p = IntProgress(max = num_exper)\n",
    "        p.description = 'Running'\n",
    "        display(p)\n",
    "        results[name][subname] = []\n",
    "\n",
    "        result = simulate(rewards_env[key],summary_stats[key], policy, \n",
    "                epsilon, m, budget, num_exper, p, fixed_samples_list)\n",
    "        results[name][subname].append(result)"
   ]
  },
  {
   "cell_type": "code",
   "execution_count": 6,
   "metadata": {
    "tags": []
   },
   "outputs": [],
   "source": [
    "if not os.path.isfile(output_file):\n",
    "    for budget in budget_list:\n",
    "        run_exper(rewards_env, true_ss_dict, Q_SR, epsilon, m, budget, num_exper)\n",
    "        run_exper(rewards_env, true_ss_dict, Q_SAR_Simplified, epsilon, m, budget, num_exper)\n",
    "        run_exper(rewards_env, true_ss_dict, batch_elimination, epsilon, m, budget, num_exper)\n",
    "        run_exper(rewards_env, true_ss_dict, uniform_sampling, epsilon, m, budget, num_exper)"
   ]
  },
  {
   "cell_type": "code",
   "execution_count": 7,
   "metadata": {
    "tags": []
   },
   "outputs": [
    {
     "name": "stdout",
     "output_type": "stream",
     "text": [
      "  Budget  Probability of Error       std     Policy\n",
      "0   1000                0.6886  0.046307       Q-SR\n",
      "1   1000                0.6942  0.046075      Q-SAR\n",
      "2   1000                0.7130  0.045236       Q-BS\n",
      "3   1000                0.8260  0.037911  Q-Uniform\n",
      "4   1250                0.5990  0.049010       Q-SR\n"
     ]
    },
    {
     "data": {
      "image/png": "[encoded data removed]",
      "text/plain": [
       "<Figure size 360x288 with 1 Axes>"
      ]
     },
     "metadata": {
      "needs_background": "light"
     },
     "output_type": "display_data"
    }
   ],
   "source": [
    "# save results\n",
    "\n",
    "if os.path.isfile(output_file):\n",
    "    with open(output_file, 'rb') as handle:\n",
    "        results = pickle.load(handle)\n",
    "else:\n",
    "    with open(output_file, 'wb') as handle:\n",
    "         pickle.dump(results, handle, protocol=pickle.HIGHEST_PROTOCOL)\n",
    "\n",
    "plot_eva_budget(results, 'pe', paper_flag = True, with_para = True, title = budget_plot_title, log_scale = False)"
   ]
  },
  {
   "cell_type": "code",
   "execution_count": null,
   "metadata": {},
   "outputs": [],
   "source": []
  }
 ],
 "metadata": {
  "kernelspec": {
   "display_name": "Python 3",
   "language": "python",
   "name": "python3"
  },
  "language_info": {
   "codemirror_mode": {
    "name": "ipython",
    "version": 3
   },
   "file_extension": ".py",
   "mimetype": "text/x-python",
   "name": "python",
   "nbconvert_exporter": "python",
   "pygments_lexer": "ipython3",
   "version": "3.7.3"
  },
  "toc": {
   "base_numbering": 1,
   "nav_menu": {},
   "number_sections": true,
   "sideBar": true,
   "skip_h1_title": false,
   "title_cell": "Table of Contents",
   "title_sidebar": "Contents",
   "toc_cell": false,
   "toc_position": {},
   "toc_section_display": true,
   "toc_window_display": false
  },
  "varInspector": {
   "cols": {
    "lenName": 16,
    "lenType": 16,
    "lenVar": 40
   },
   "kernels_config": {
    "python": {
     "delete_cmd_postfix": "",
     "delete_cmd_prefix": "del ",
     "library": "var_list.py",
     "varRefreshCmd": "print(var_dic_list())"
    },
    "r": {
     "delete_cmd_postfix": ") ",
     "delete_cmd_prefix": "rm(",
     "library": "var_list.r",
     "varRefreshCmd": "cat(var_dic_list()) "
    }
   },
   "types_to_exclude": [
    "module",
    "function",
    "builtin_function_or_method",
    "instance",
    "_Feature"
   ],
   "window_display": false
  }
 },
 "nbformat": 4,
 "nbformat_minor": 2
}
